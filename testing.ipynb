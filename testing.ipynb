{
 "cells": [
  {
   "cell_type": "code",
   "execution_count": 1,
   "metadata": {},
   "outputs": [],
   "source": [
    "import pandas as pd"
   ]
  },
  {
   "cell_type": "code",
   "execution_count": 2,
   "metadata": {},
   "outputs": [],
   "source": [
    "df=pd.read_pickle('./output/DataSetAudios.pkl')"
   ]
  },
  {
   "cell_type": "code",
   "execution_count": 3,
   "metadata": {},
   "outputs": [
    {
     "data": {
      "text/html": [
       "<div>\n",
       "<style scoped>\n",
       "    .dataframe tbody tr th:only-of-type {\n",
       "        vertical-align: middle;\n",
       "    }\n",
       "\n",
       "    .dataframe tbody tr th {\n",
       "        vertical-align: top;\n",
       "    }\n",
       "\n",
       "    .dataframe thead th {\n",
       "        text-align: right;\n",
       "    }\n",
       "</style>\n",
       "<table border=\"1\" class=\"dataframe\">\n",
       "  <thead>\n",
       "    <tr style=\"text-align: right;\">\n",
       "      <th></th>\n",
       "      <th>name</th>\n",
       "      <th>gender</th>\n",
       "      <th>1SecArray</th>\n",
       "      <th>fft+mfcc</th>\n",
       "    </tr>\n",
       "  </thead>\n",
       "  <tbody>\n",
       "    <tr>\n",
       "      <th>0</th>\n",
       "      <td>AlfonsoPastor</td>\n",
       "      <td>1</td>\n",
       "      <td>[0, 0, 0, 0, 0, 1, 0, 0, 0, 0, 1, 0, 0, 0, 0, ...</td>\n",
       "      <td>[0.0, 11.711617297764233, 11.869336626669046, ...</td>\n",
       "    </tr>\n",
       "    <tr>\n",
       "      <th>1</th>\n",
       "      <td>AlfonsoPastor</td>\n",
       "      <td>1</td>\n",
       "      <td>[-1, 0, 1, 0, 0, 0, 0, 0, 0, 0, 0, 0, 0, 0, 0,...</td>\n",
       "      <td>[25.0, 6.79575338637578, 10.757025437312208, 7...</td>\n",
       "    </tr>\n",
       "    <tr>\n",
       "      <th>2</th>\n",
       "      <td>AlfonsoPastor</td>\n",
       "      <td>1</td>\n",
       "      <td>[0, 0, -1, 0, 0, 0, 0, 0, 1, -1, 0, 0, 0, 0, 0...</td>\n",
       "      <td>[5.0, 8.524615885069814, 6.410072855905021, 13...</td>\n",
       "    </tr>\n",
       "    <tr>\n",
       "      <th>3</th>\n",
       "      <td>AlfonsoPastor</td>\n",
       "      <td>1</td>\n",
       "      <td>[0, 0, 1, -1, -1, 1, 0, 1, 0, 0, 0, 0, 0, 0, 0...</td>\n",
       "      <td>[2.0, 10.099661416993404, 14.135408603698677, ...</td>\n",
       "    </tr>\n",
       "    <tr>\n",
       "      <th>4</th>\n",
       "      <td>AlfonsoPastor</td>\n",
       "      <td>1</td>\n",
       "      <td>[0, 0, 0, 0, 0, 0, 0, 0, 1, 0, -1, 0, 1, 0, 1,...</td>\n",
       "      <td>[4.0, 3.553700286459984, 3.8159562717313116, 7...</td>\n",
       "    </tr>\n",
       "  </tbody>\n",
       "</table>\n",
       "</div>"
      ],
      "text/plain": [
       "            name  gender                                          1SecArray  \\\n",
       "0  AlfonsoPastor       1  [0, 0, 0, 0, 0, 1, 0, 0, 0, 0, 1, 0, 0, 0, 0, ...   \n",
       "1  AlfonsoPastor       1  [-1, 0, 1, 0, 0, 0, 0, 0, 0, 0, 0, 0, 0, 0, 0,...   \n",
       "2  AlfonsoPastor       1  [0, 0, -1, 0, 0, 0, 0, 0, 1, -1, 0, 0, 0, 0, 0...   \n",
       "3  AlfonsoPastor       1  [0, 0, 1, -1, -1, 1, 0, 1, 0, 0, 0, 0, 0, 0, 0...   \n",
       "4  AlfonsoPastor       1  [0, 0, 0, 0, 0, 0, 0, 0, 1, 0, -1, 0, 1, 0, 1,...   \n",
       "\n",
       "                                            fft+mfcc  \n",
       "0  [0.0, 11.711617297764233, 11.869336626669046, ...  \n",
       "1  [25.0, 6.79575338637578, 10.757025437312208, 7...  \n",
       "2  [5.0, 8.524615885069814, 6.410072855905021, 13...  \n",
       "3  [2.0, 10.099661416993404, 14.135408603698677, ...  \n",
       "4  [4.0, 3.553700286459984, 3.8159562717313116, 7...  "
      ]
     },
     "execution_count": 3,
     "metadata": {},
     "output_type": "execute_result"
    }
   ],
   "source": [
    "df.head()"
   ]
  },
  {
   "cell_type": "code",
   "execution_count": 43,
   "metadata": {},
   "outputs": [],
   "source": [
    "import array\n",
    "y=df['name']\n",
    "#filt = array.array('h')\n",
    "#df['fft+mfcc']=filt.fromlist(list(map(int,df['fft+mfcc'][0])))\n",
    "X=list(map(lambda x: x,df['fft+mfcc']))"
   ]
  },
  {
   "cell_type": "code",
   "execution_count": 44,
   "metadata": {},
   "outputs": [],
   "source": [
    "from sklearn import datasets, svm, metrics\n",
    "from sklearn.model_selection import train_test_split"
   ]
  },
  {
   "cell_type": "code",
   "execution_count": 45,
   "metadata": {},
   "outputs": [],
   "source": [
    "X_train, X_test, y_train, y_test = train_test_split(X,y, test_size=0.2)"
   ]
  },
  {
   "cell_type": "code",
   "execution_count": 46,
   "metadata": {},
   "outputs": [],
   "source": [
    "from sklearn.ensemble import RandomForestClassifier"
   ]
  },
  {
   "cell_type": "code",
   "execution_count": 47,
   "metadata": {},
   "outputs": [
    {
     "name": "stderr",
     "output_type": "stream",
     "text": [
      "/usr/local/lib/python3.7/site-packages/sklearn/ensemble/forest.py:245: FutureWarning: The default value of n_estimators will change from 10 in version 0.20 to 100 in 0.22.\n",
      "  \"10 in version 0.20 to 100 in 0.22.\", FutureWarning)\n"
     ]
    }
   ],
   "source": [
    "clf=RandomForestClassifier()\n",
    "clf.fit(X_train, y_train)\n",
    "y_pred=clf.predict(X_test)"
   ]
  },
  {
   "cell_type": "code",
   "execution_count": 48,
   "metadata": {},
   "outputs": [],
   "source": [
    "prueba=pd.DataFrame({'gt':y_test,\n",
    "                    'pred':y_pred})"
   ]
  },
  {
   "cell_type": "code",
   "execution_count": 68,
   "metadata": {},
   "outputs": [
    {
     "data": {
      "text/plain": [
       "Int64Index([ 79, 323, 897, 437, 530, 682, 478, 425, 655, 808,\n",
       "            ...\n",
       "            289, 264, 342, 330, 711, 696,  77, 207, 714, 121],\n",
       "           dtype='int64', length=182)"
      ]
     },
     "execution_count": 68,
     "metadata": {},
     "output_type": "execute_result"
    }
   ],
   "source": [
    "prueba['gt'].index"
   ]
  },
  {
   "cell_type": "code",
   "execution_count": 70,
   "metadata": {},
   "outputs": [
    {
     "name": "stdout",
     "output_type": "stream",
     "text": [
      "MarioBru AlfonsoPastor\n",
      "JorgeLopezMingo MarioBru\n",
      "SeoRa JoaquinPerez\n",
      "MarioBru AlbertoVargas\n"
     ]
    }
   ],
   "source": [
    "for i in list(prueba['gt'].index):\n",
    "    if prueba['gt'][i]!=prueba['pred'][i]:\n",
    "        print(prueba['gt'][i],prueba['pred'][i])"
   ]
  },
  {
   "cell_type": "code",
   "execution_count": 88,
   "metadata": {},
   "outputs": [
    {
     "data": {
      "text/plain": [
       "'SeoRa'"
      ]
     },
     "execution_count": 88,
     "metadata": {},
     "output_type": "execute_result"
    }
   ],
   "source": [
    "prueba[prueba['gt']=='SeoRa']['pred'].value_counts().index[0]"
   ]
  },
  {
   "cell_type": "code",
   "execution_count": 60,
   "metadata": {},
   "outputs": [
    {
     "name": "stdout",
     "output_type": "stream",
     "text": [
      "0.978021978021978\n",
      "Precision 0.9789887310491706\n",
      "Recall 0.978021978021978\n"
     ]
    }
   ],
   "source": [
    "from sklearn.metrics import accuracy_score\n",
    "from sklearn.metrics import precision_score\n",
    "from sklearn.metrics import recall_score\n",
    "from IPython.core.display import display, HTML\n",
    "\n",
    "print('Accuracy',accuracy_score(prueba[\"gt\"],prueba['pred']))\n",
    "print(\"Precision\", precision_score(prueba[\"gt\"],prueba['pred'],average='weighted'))\n",
    "print(\"Recall\", recall_score(prueba[\"gt\"],prueba['pred'],average='weighted'))"
   ]
  },
  {
   "cell_type": "code",
   "execution_count": 56,
   "metadata": {},
   "outputs": [],
   "source": [
    "import pickle\n",
    "pickle.dump(clf, open('modelo2', 'wb'))"
   ]
  },
  {
   "cell_type": "code",
   "execution_count": null,
   "metadata": {},
   "outputs": [],
   "source": []
  },
  {
   "cell_type": "code",
   "execution_count": null,
   "metadata": {},
   "outputs": [],
   "source": []
  },
  {
   "cell_type": "code",
   "execution_count": null,
   "metadata": {},
   "outputs": [],
   "source": []
  },
  {
   "cell_type": "code",
   "execution_count": null,
   "metadata": {},
   "outputs": [],
   "source": [
    "'''precision \n",
    "rockcurve\n",
    "f1score'''"
   ]
  }
 ],
 "metadata": {
  "kernelspec": {
   "display_name": "Python 3",
   "language": "python",
   "name": "python3"
  },
  "language_info": {
   "codemirror_mode": {
    "name": "ipython",
    "version": 3
   },
   "file_extension": ".py",
   "mimetype": "text/x-python",
   "name": "python",
   "nbconvert_exporter": "python",
   "pygments_lexer": "ipython3",
   "version": "3.7.5"
  }
 },
 "nbformat": 4,
 "nbformat_minor": 2
}
