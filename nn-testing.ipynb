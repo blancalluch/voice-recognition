{
 "cells": [
  {
   "cell_type": "code",
   "execution_count": 11,
   "metadata": {},
   "outputs": [],
   "source": [
    "import json\n",
    "import numpy as np\n",
    "from keras import layers\n",
    "from keras import models\n",
    "from keras.layers.normalization import BatchNormalization\n",
    "from sklearn.metrics import confusion_matrix\n",
    "from sklearn.model_selection import train_test_split"
   ]
  },
  {
   "cell_type": "code",
   "execution_count": 12,
   "metadata": {},
   "outputs": [
    {
     "data": {
      "text/plain": [
       "pandas.core.series.Series"
      ]
     },
     "execution_count": 12,
     "metadata": {},
     "output_type": "execute_result"
    }
   ],
   "source": [
    "import pickle\n",
    "import pandas as pd\n",
    "df=pd.read_pickle('./output/DataSetAudios.pkl')\n",
    "number_classes = len(set(df['name']))\n",
    "number_classes\n",
    "y_names=df['name']\n",
    "type(y_names)"
   ]
  },
  {
   "cell_type": "code",
   "execution_count": 13,
   "metadata": {},
   "outputs": [],
   "source": [
    "from sklearn import preprocessing\n",
    "le = preprocessing.LabelEncoder()\n",
    "le.fit(y_names)\n",
    "y=np.vstack(le.transform(y_names))"
   ]
  },
  {
   "cell_type": "code",
   "execution_count": 14,
   "metadata": {},
   "outputs": [
    {
     "data": {
      "text/plain": [
       "numpy.ndarray"
      ]
     },
     "execution_count": 14,
     "metadata": {},
     "output_type": "execute_result"
    }
   ],
   "source": [
    "type(y)"
   ]
  },
  {
   "cell_type": "code",
   "execution_count": 15,
   "metadata": {},
   "outputs": [
    {
     "name": "stdout",
     "output_type": "stream",
     "text": [
      "(1108, 2176) (278, 2176) (1108, 1) (278, 1)\n"
     ]
    }
   ],
   "source": [
    "#y=np.vstack(df['name'])\n",
    "X=np.vstack(df['features'])\n",
    "X_train, X_test, y_train, y_test = train_test_split(X, y,test_size=0.2)\n",
    "\n",
    "'''validation_samples = 10\n",
    "x_val = X_train[:validation_samples]\n",
    "partial_x_train = X_train[validation_samples:]\n",
    "y_val = y_train[:validation_samples]\n",
    "partial_y_train = y_train[validation_samples:]'''\n",
    "\n",
    "print(X_train.shape, X_test.shape, y_train.shape, y_test.shape)\n",
    "\n"
   ]
  },
  {
   "cell_type": "code",
   "execution_count": 16,
   "metadata": {},
   "outputs": [
    {
     "data": {
      "text/plain": [
       "array([[ 2],\n",
       "       [13],\n",
       "       [ 8],\n",
       "       ...,\n",
       "       [ 1],\n",
       "       [14],\n",
       "       [15]])"
      ]
     },
     "execution_count": 16,
     "metadata": {},
     "output_type": "execute_result"
    }
   ],
   "source": [
    "y_train"
   ]
  },
  {
   "cell_type": "code",
   "execution_count": 20,
   "metadata": {},
   "outputs": [
    {
     "name": "stdout",
     "output_type": "stream",
     "text": [
      "Train on 1108 samples, validate on 278 samples\n",
      "Epoch 1/60\n",
      "1108/1108 [==============================] - 1s 666us/step - loss: 2.4510 - accuracy: 0.2951 - val_loss: 2.5818 - val_accuracy: 0.2914\n",
      "Epoch 2/60\n",
      "1108/1108 [==============================] - 0s 360us/step - loss: 1.9399 - accuracy: 0.4549 - val_loss: 2.0197 - val_accuracy: 0.3777\n",
      "Epoch 3/60\n",
      "1108/1108 [==============================] - 0s 359us/step - loss: 1.7413 - accuracy: 0.5108 - val_loss: 1.9852 - val_accuracy: 0.4388\n",
      "Epoch 4/60\n",
      "1108/1108 [==============================] - 0s 365us/step - loss: 1.5660 - accuracy: 0.5496 - val_loss: 1.7364 - val_accuracy: 0.5000\n",
      "Epoch 5/60\n",
      "1108/1108 [==============================] - 0s 373us/step - loss: 1.3890 - accuracy: 0.6155 - val_loss: 1.6543 - val_accuracy: 0.5360\n",
      "Epoch 6/60\n",
      "1108/1108 [==============================] - 0s 361us/step - loss: 1.2481 - accuracy: 0.6480 - val_loss: 1.5603 - val_accuracy: 0.5791\n",
      "Epoch 7/60\n",
      "1108/1108 [==============================] - 0s 366us/step - loss: 1.1983 - accuracy: 0.6606 - val_loss: 1.6338 - val_accuracy: 0.5252\n",
      "Epoch 8/60\n",
      "1108/1108 [==============================] - 0s 358us/step - loss: 1.1502 - accuracy: 0.6606 - val_loss: 1.5239 - val_accuracy: 0.5683\n",
      "Epoch 9/60\n",
      "1108/1108 [==============================] - 0s 370us/step - loss: 1.0398 - accuracy: 0.6868 - val_loss: 1.7082 - val_accuracy: 0.5396\n",
      "Epoch 10/60\n",
      "1108/1108 [==============================] - 0s 369us/step - loss: 1.0270 - accuracy: 0.6931 - val_loss: 1.4834 - val_accuracy: 0.5683\n",
      "Epoch 11/60\n",
      "1108/1108 [==============================] - 0s 358us/step - loss: 0.9220 - accuracy: 0.7202 - val_loss: 1.4037 - val_accuracy: 0.5935\n",
      "Epoch 12/60\n",
      "1108/1108 [==============================] - 0s 369us/step - loss: 0.8936 - accuracy: 0.7292 - val_loss: 1.4914 - val_accuracy: 0.5827\n",
      "Epoch 13/60\n",
      "1108/1108 [==============================] - 0s 379us/step - loss: 0.9363 - accuracy: 0.7193 - val_loss: 2.4387 - val_accuracy: 0.3345\n",
      "Epoch 14/60\n",
      "1108/1108 [==============================] - 0s 381us/step - loss: 1.2369 - accuracy: 0.6588 - val_loss: 1.7705 - val_accuracy: 0.5036\n",
      "Epoch 15/60\n",
      "1108/1108 [==============================] - 0s 400us/step - loss: 1.2197 - accuracy: 0.6552 - val_loss: 1.5763 - val_accuracy: 0.5468\n",
      "Epoch 16/60\n",
      "1108/1108 [==============================] - 0s 364us/step - loss: 1.1789 - accuracy: 0.6634 - val_loss: 1.5294 - val_accuracy: 0.5612\n",
      "Epoch 17/60\n",
      "1108/1108 [==============================] - 0s 370us/step - loss: 1.0924 - accuracy: 0.6913 - val_loss: 1.7919 - val_accuracy: 0.5108\n",
      "Epoch 18/60\n",
      "1108/1108 [==============================] - 0s 360us/step - loss: 1.0272 - accuracy: 0.6922 - val_loss: 2.0335 - val_accuracy: 0.3921\n",
      "Epoch 19/60\n",
      "1108/1108 [==============================] - 0s 377us/step - loss: 1.0546 - accuracy: 0.6814 - val_loss: 1.8111 - val_accuracy: 0.4676\n",
      "Epoch 20/60\n",
      "1108/1108 [==============================] - 0s 428us/step - loss: 0.9903 - accuracy: 0.6949 - val_loss: 1.5860 - val_accuracy: 0.5360\n",
      "Epoch 21/60\n",
      "1108/1108 [==============================] - 1s 516us/step - loss: 0.8884 - accuracy: 0.7347 - val_loss: 1.8780 - val_accuracy: 0.4424\n",
      "Epoch 22/60\n",
      "1108/1108 [==============================] - 1s 460us/step - loss: 0.8565 - accuracy: 0.7419 - val_loss: 1.5823 - val_accuracy: 0.5072\n",
      "Epoch 23/60\n",
      "1108/1108 [==============================] - 0s 449us/step - loss: 0.7726 - accuracy: 0.7653 - val_loss: 1.4812 - val_accuracy: 0.5288\n",
      "Epoch 24/60\n",
      "1108/1108 [==============================] - 1s 477us/step - loss: 0.7288 - accuracy: 0.7708 - val_loss: 1.3728 - val_accuracy: 0.5899\n",
      "Epoch 25/60\n",
      "1108/1108 [==============================] - 1s 497us/step - loss: 0.7275 - accuracy: 0.7789 - val_loss: 1.2136 - val_accuracy: 0.6439\n",
      "Epoch 26/60\n",
      "1108/1108 [==============================] - 0s 408us/step - loss: 0.7546 - accuracy: 0.7690 - val_loss: 1.2865 - val_accuracy: 0.6007\n",
      "Epoch 27/60\n",
      "1108/1108 [==============================] - 0s 403us/step - loss: 0.7247 - accuracy: 0.7726 - val_loss: 1.5506 - val_accuracy: 0.5863\n",
      "Epoch 28/60\n",
      "1108/1108 [==============================] - 1s 467us/step - loss: 0.7278 - accuracy: 0.7780 - val_loss: 1.4267 - val_accuracy: 0.5647\n",
      "Epoch 29/60\n",
      "1108/1108 [==============================] - 1s 484us/step - loss: 0.7707 - accuracy: 0.7482 - val_loss: 1.4266 - val_accuracy: 0.5612\n",
      "Epoch 30/60\n",
      "1108/1108 [==============================] - 1s 459us/step - loss: 0.7142 - accuracy: 0.7771 - val_loss: 1.5417 - val_accuracy: 0.5252\n",
      "Epoch 31/60\n",
      "1108/1108 [==============================] - 1s 505us/step - loss: 0.7638 - accuracy: 0.7617 - val_loss: 1.1888 - val_accuracy: 0.6223\n",
      "Epoch 32/60\n",
      "1108/1108 [==============================] - 1s 478us/step - loss: 0.6518 - accuracy: 0.7960 - val_loss: 1.3494 - val_accuracy: 0.6223\n",
      "Epoch 33/60\n",
      "1108/1108 [==============================] - 1s 514us/step - loss: 0.6431 - accuracy: 0.8051 - val_loss: 1.1805 - val_accuracy: 0.6223\n",
      "Epoch 34/60\n",
      "1108/1108 [==============================] - 1s 560us/step - loss: 0.6274 - accuracy: 0.8042 - val_loss: 1.0881 - val_accuracy: 0.6619\n",
      "Epoch 35/60\n",
      "1108/1108 [==============================] - 1s 556us/step - loss: 0.6273 - accuracy: 0.8087 - val_loss: 1.4896 - val_accuracy: 0.5827\n",
      "Epoch 36/60\n",
      "1108/1108 [==============================] - 0s 428us/step - loss: 0.6337 - accuracy: 0.7987 - val_loss: 1.2236 - val_accuracy: 0.6619\n",
      "Epoch 37/60\n",
      "1108/1108 [==============================] - 1s 465us/step - loss: 0.6008 - accuracy: 0.8023 - val_loss: 1.9053 - val_accuracy: 0.5288\n",
      "Epoch 38/60\n",
      "1108/1108 [==============================] - 1s 466us/step - loss: 0.6532 - accuracy: 0.7978 - val_loss: 3.5403 - val_accuracy: 0.3561\n",
      "Epoch 39/60\n",
      "1108/1108 [==============================] - 1s 490us/step - loss: 0.7609 - accuracy: 0.7644 - val_loss: 2.6013 - val_accuracy: 0.4532\n",
      "Epoch 40/60\n",
      "1108/1108 [==============================] - 1s 475us/step - loss: 0.8280 - accuracy: 0.7428 - val_loss: 2.2794 - val_accuracy: 0.4568\n",
      "Epoch 41/60\n",
      "1108/1108 [==============================] - 0s 428us/step - loss: 0.8790 - accuracy: 0.7238 - val_loss: 1.4366 - val_accuracy: 0.5683\n",
      "Epoch 42/60\n",
      "1108/1108 [==============================] - 0s 435us/step - loss: 0.7807 - accuracy: 0.7545 - val_loss: 1.2456 - val_accuracy: 0.6295\n",
      "Epoch 43/60\n",
      "1108/1108 [==============================] - 0s 394us/step - loss: 0.7132 - accuracy: 0.7798 - val_loss: 1.2208 - val_accuracy: 0.6259\n",
      "Epoch 44/60\n",
      "1108/1108 [==============================] - 1s 472us/step - loss: 0.6506 - accuracy: 0.7897 - val_loss: 1.1680 - val_accuracy: 0.6547\n",
      "Epoch 45/60\n",
      "1108/1108 [==============================] - 1s 515us/step - loss: 0.6108 - accuracy: 0.8023 - val_loss: 1.2873 - val_accuracy: 0.6187\n",
      "Epoch 46/60\n",
      "1108/1108 [==============================] - 1s 473us/step - loss: 0.7130 - accuracy: 0.7780 - val_loss: 2.0432 - val_accuracy: 0.5288\n",
      "Epoch 47/60\n",
      "1108/1108 [==============================] - 0s 408us/step - loss: 0.7106 - accuracy: 0.7870 - val_loss: 1.6047 - val_accuracy: 0.6511\n",
      "Epoch 48/60\n",
      "1108/1108 [==============================] - 0s 441us/step - loss: 0.6898 - accuracy: 0.7816 - val_loss: 1.4789 - val_accuracy: 0.6079\n",
      "Epoch 49/60\n",
      "1108/1108 [==============================] - 1s 467us/step - loss: 0.5937 - accuracy: 0.8168 - val_loss: 0.9059 - val_accuracy: 0.7410\n",
      "Epoch 50/60\n",
      "1108/1108 [==============================] - 1s 455us/step - loss: 0.5579 - accuracy: 0.8249 - val_loss: 1.0135 - val_accuracy: 0.6906\n",
      "Epoch 51/60\n",
      "1108/1108 [==============================] - 0s 397us/step - loss: 0.6860 - accuracy: 0.7807 - val_loss: 1.3631 - val_accuracy: 0.5863\n",
      "Epoch 52/60\n",
      "1108/1108 [==============================] - 1s 467us/step - loss: 0.6336 - accuracy: 0.7942 - val_loss: 1.1690 - val_accuracy: 0.6187\n",
      "Epoch 53/60\n",
      "1108/1108 [==============================] - 1s 495us/step - loss: 0.5794 - accuracy: 0.8249 - val_loss: 4.7091 - val_accuracy: 0.6691\n",
      "Epoch 54/60\n",
      "1108/1108 [==============================] - 0s 425us/step - loss: 0.5248 - accuracy: 0.8339 - val_loss: 8.7504 - val_accuracy: 0.6978\n",
      "Epoch 55/60\n",
      "1108/1108 [==============================] - 1s 485us/step - loss: 0.5557 - accuracy: 0.8348 - val_loss: 1.0055 - val_accuracy: 0.6906\n",
      "Epoch 56/60\n"
     ]
    },
    {
     "name": "stdout",
     "output_type": "stream",
     "text": [
      "1108/1108 [==============================] - 0s 404us/step - loss: 0.5662 - accuracy: 0.8141 - val_loss: 1.0312 - val_accuracy: 0.6691\n",
      "Epoch 57/60\n",
      "1108/1108 [==============================] - 0s 424us/step - loss: 0.5462 - accuracy: 0.8240 - val_loss: 1.2023 - val_accuracy: 0.6547\n",
      "Epoch 58/60\n",
      "1108/1108 [==============================] - 0s 385us/step - loss: 0.5235 - accuracy: 0.8366 - val_loss: 0.9619 - val_accuracy: 0.7266\n",
      "Epoch 59/60\n",
      "1108/1108 [==============================] - 1s 470us/step - loss: 0.4892 - accuracy: 0.8520 - val_loss: 0.9638 - val_accuracy: 0.7338\n",
      "Epoch 60/60\n",
      "1108/1108 [==============================] - 0s 435us/step - loss: 0.4904 - accuracy: 0.8511 - val_loss: 3.9919 - val_accuracy: 0.6007\n",
      "278/278 [==============================] - 0s 106us/step\n",
      "\n",
      "[3.9918526839866915, 0.6007194519042969]\n",
      "\n",
      "\n",
      "<keras.engine.sequential.Sequential object at 0x1362979d0>\n"
     ]
    }
   ],
   "source": [
    "inshape=(X_train.shape[1],)\n",
    "model = models.Sequential()\n",
    "model.add(layers.Dense(512, activation='relu', input_shape=inshape))\n",
    "model.add(layers.Dense(256, activation='relu'))\n",
    "\n",
    "model.add(BatchNormalization())\n",
    "model.add(layers.Dense(128, activation='relu'))\n",
    "model.add(layers.Dense(128, activation='relu'))\n",
    "model.add(layers.Dense(number_classes, activation='softmax'))\n",
    "model.compile(optimizer='adam',\n",
    "              loss='sparse_categorical_crossentropy',\n",
    "              metrics=['accuracy'])\n",
    "model.fit(X_train,\n",
    "          y_train,\n",
    "          epochs=60,\n",
    "          batch_size=50,\n",
    "          validation_data=(X_test, y_test))\n",
    "\n",
    "results = model.evaluate(X_test, y_test)\n",
    "print(\"\")\n",
    "print(results)\n",
    "print(\"\\n\")\n",
    "\n",
    "predictions = model.predict(X_test)\n",
    "\n",
    "#predictions = nn_to_labels(predictions)\n",
    "#confusion = confusion_matrix(y_test, predictions)\n",
    "\n",
    "print(model)"
   ]
  },
  {
   "cell_type": "code",
   "execution_count": 21,
   "metadata": {},
   "outputs": [
    {
     "data": {
      "text/plain": [
       "['./models/primer_nn.joblib']"
      ]
     },
     "execution_count": 21,
     "metadata": {},
     "output_type": "execute_result"
    }
   ],
   "source": [
    "from joblib import dump, load\n",
    "dump(model, f'./models/primer_nn.joblib')"
   ]
  },
  {
   "cell_type": "code",
   "execution_count": 25,
   "metadata": {},
   "outputs": [],
   "source": [
    "#le.inverse_transform\n",
    "#model.save('./models/primerito.hf5')\n",
    "#model.load_weights('./models/weights_primerito.hf5')"
   ]
  },
  {
   "cell_type": "code",
   "execution_count": 26,
   "metadata": {},
   "outputs": [],
   "source": [
    "import time\n",
    "moment=time.localtime()\n",
    "name='./models/Model_{}_{}-{}-{}.h5'.format(model.history.history[\"val_accuracy\"][-1],moment[2],moment[3],moment[4])\n",
    "model.save(name)"
   ]
  },
  {
   "cell_type": "code",
   "execution_count": 27,
   "metadata": {},
   "outputs": [],
   "source": [
    "import json\n",
    "\n",
    "model_json = model.to_json()\n",
    "with open(name+'.json', \"w\") as json_file:\n",
    "    json.dump(model_json, json_file)\n",
    "\n",
    "model.save_weights(name+'.h5')"
   ]
  },
  {
   "cell_type": "code",
   "execution_count": 40,
   "metadata": {},
   "outputs": [
    {
     "name": "stdout",
     "output_type": "stream",
     "text": [
      "Model loaded\n"
     ]
    }
   ],
   "source": [
    "from keras.models import model_from_json\n",
    "with open('./models/Model_0.6007194519042969_16-20-44.h5.json','r') as f:\n",
    "    model_json = json.load(f)\n",
    "\n",
    "model = model_from_json(model_json)\n",
    "model.load_weights('./models/Model_0.6007194519042969_16-20-44.h5.h5')\n",
    "print('Model loaded')"
   ]
  },
  {
   "cell_type": "code",
   "execution_count": 43,
   "metadata": {},
   "outputs": [],
   "source": [
    "X_test=X_train[1:]\n",
    "predictions = model.predict(X_test)"
   ]
  },
  {
   "cell_type": "code",
   "execution_count": 44,
   "metadata": {},
   "outputs": [
    {
     "data": {
      "text/plain": [
       "(1107, 19)"
      ]
     },
     "execution_count": 44,
     "metadata": {},
     "output_type": "execute_result"
    }
   ],
   "source": [
    "predictions.shape"
   ]
  },
  {
   "cell_type": "code",
   "execution_count": 47,
   "metadata": {},
   "outputs": [
    {
     "data": {
      "text/plain": [
       "array([0.02725567, 0.08089689, 0.1410461 , 0.15035963, 0.05367814,\n",
       "       0.13506287, 0.03406662, 0.01360706, 0.04970345, 0.09857716,\n",
       "       0.00040458, 0.00173293, 0.03785447, 0.13278052, 0.00190351,\n",
       "       0.01350835, 0.0188138 , 0.00786899, 0.00087919], dtype=float32)"
      ]
     },
     "execution_count": 47,
     "metadata": {},
     "output_type": "execute_result"
    }
   ],
   "source": [
    "predictions[0]"
   ]
  },
  {
   "cell_type": "code",
   "execution_count": null,
   "metadata": {},
   "outputs": [],
   "source": []
  }
 ],
 "metadata": {
  "kernelspec": {
   "display_name": "Python 3",
   "language": "python",
   "name": "python3"
  },
  "language_info": {
   "codemirror_mode": {
    "name": "ipython",
    "version": 3
   },
   "file_extension": ".py",
   "mimetype": "text/x-python",
   "name": "python",
   "nbconvert_exporter": "python",
   "pygments_lexer": "ipython3",
   "version": "3.7.5"
  }
 },
 "nbformat": 4,
 "nbformat_minor": 2
}
